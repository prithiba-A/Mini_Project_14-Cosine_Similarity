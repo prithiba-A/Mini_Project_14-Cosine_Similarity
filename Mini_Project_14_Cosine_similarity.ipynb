{
  "nbformat": 4,
  "nbformat_minor": 0,
  "metadata": {
    "colab": {
      "provenance": [],
      "authorship_tag": "ABX9TyMaiTMSJOZbKnT0dWZsEYmU",
      "include_colab_link": true
    },
    "kernelspec": {
      "name": "python3",
      "display_name": "Python 3"
    },
    "language_info": {
      "name": "python"
    }
  },
  "cells": [
    {
      "cell_type": "markdown",
      "metadata": {
        "id": "view-in-github",
        "colab_type": "text"
      },
      "source": [
        "<a href=\"https://colab.research.google.com/github/prithiba-A/Mini_Project_14-Cosine_Similarity/blob/main/Mini_Project_14_Cosine_similarity.ipynb\" target=\"_parent\"><img src=\"https://colab.research.google.com/assets/colab-badge.svg\" alt=\"Open In Colab\"/></a>"
      ]
    },
    {
      "cell_type": "code",
      "source": [
        "from sklearn.metrics.pairwise import cosine_similarity\n",
        "import pandas as pd"
      ],
      "metadata": {
        "id": "a-j8BVySJB8W"
      },
      "execution_count": 4,
      "outputs": []
    },
    {
      "cell_type": "markdown",
      "source": [
        "**COSINE SIMILARITY**"
      ],
      "metadata": {
        "id": "gAoJpg3JKNgk"
      }
    },
    {
      "cell_type": "code",
      "source": [
        "df = pd.DataFrame([\n",
        "    {'A': 2, 'B': 3},\n",
        "    {'A': 1, 'B': 2},\n",
        "    {'A': 2, 'B': 1},\n",
        "    {'A': 1, 'B': 3},\n",
        "],\n",
        "index=[\n",
        "    \"doc1\",\n",
        "    \"doc2\",\n",
        "    \"doc3\",\n",
        "    \"doc4\"\n",
        "])\n",
        "\n",
        "# Calculate cosine similarity pairwise\n",
        "similarity_matrix = cosine_similarity(df.values)\n",
        "\n",
        "# Convert the similarity matrix to a dataframe\n",
        "similarity_df = pd.DataFrame(similarity_matrix, index=df.index, columns=df.index)\n",
        "print(\"Cosine Similarity Matrix:\")\n",
        "print(similarity_df)\n"
      ],
      "metadata": {
        "colab": {
          "base_uri": "https://localhost:8080/"
        },
        "id": "xbG77XyrJIBT",
        "outputId": "799cdb67-3587-4cdb-b102-aa0de4334970"
      },
      "execution_count": 9,
      "outputs": [
        {
          "output_type": "stream",
          "name": "stdout",
          "text": [
            "Cosine Similarity Matrix:\n",
            "          doc1      doc2      doc3      doc4\n",
            "doc1  1.000000  0.992278  0.868243  0.964764\n",
            "doc2  0.992278  1.000000  0.800000  0.989949\n",
            "doc3  0.868243  0.800000  1.000000  0.707107\n",
            "doc4  0.964764  0.989949  0.707107  1.000000\n"
          ]
        }
      ]
    }
  ]
}